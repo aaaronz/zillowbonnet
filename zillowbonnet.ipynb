{
 "cells": [
  {
   "cell_type": "markdown",
   "metadata": {},
   "source": [
    "### This notebook can be used to webscrape data from a spreadsheet with a list of addresses on it. \n",
    "#### Built with Selenium and BeautifulSoup webscraping. The original notebook was a lot more messy so there MAY be some bugs in this. Feel free to mess around with it/make things more efficient if you can. \n",
    "\n",
    "##### Since I transferred from one notebook file to another, there are bugs/lines which may be out of context. \n",
    "1. Import modules, data, create dataframe, add zillow links to the spreadsheet."
   ]
  },
  {
   "cell_type": "code",
   "execution_count": 3,
   "metadata": {},
   "outputs": [],
   "source": [
    "import random\n",
    "import requests\n",
    "from bs4 import BeautifulSoup\n",
    "import pandas as pd\n",
    "from selenium.webdriver.support import expected_conditions as EC\n",
    "from selenium import webdriver\n",
    "from selenium.webdriver.common.by import By\n",
    "from selenium.webdriver.common.keys import Keys\n",
    "import os\n",
    "import pyautogui as pg \n",
    "from selenium.webdriver.support.ui import WebDriverWait\n",
    "import os.path\n",
    "import time\n",
    "from selenium.webdriver.support.ui import WebDriverWait"
   ]
  },
  {
   "cell_type": "code",
   "execution_count": 4,
   "metadata": {},
   "outputs": [],
   "source": [
    "pd.set_option(\"display.max_rows\", None, \"display.max_columns\", None)\n",
    "data = pd.read_excel(\"Finished Dem Contacts (2).xlsx\")\n",
    "addresses = data[\"Address Line 1\"].values.tolist()\n",
    "zillowLinks=[]"
   ]
  },
  {
   "cell_type": "code",
   "execution_count": 5,
   "metadata": {},
   "outputs": [],
   "source": [
    "def findZillowURL(drvier, address):\n",
    "    driver.get(\"https://www.zillow.com/how-much-is-my-home-worth/\")\n",
    "    input_field = '//*[@id=\"property-search\"]'\n",
    "    try:\n",
    "        driver.find_element_by_xpath(input_field).send_keys(address+Keys.DOWN)\n",
    "        button_xpath = '//*[@id=\"address-search\"]/div/label/button'\n",
    "        driver.find_element_by_xpath(button_xpath).click()\n",
    "        sleep_time = random.randint(6,10)\n",
    "        time.sleep(sleep_time)\n",
    "        url = driver.current_url\n",
    "        return url\n",
    "    except:\n",
    "        return \"No URL\""
   ]
  },
  {
   "cell_type": "code",
   "execution_count": 21,
   "metadata": {},
   "outputs": [
    {
     "name": "stdout",
     "output_type": "stream",
     "text": [
      "832\n"
     ]
    }
   ],
   "source": [
    "print(len(zillowLinks))\n",
    "data[\"Zillow Links\"] = pd.Series(zillowLinks)\n",
    "#Now, the data is appended to the dataframe. "
   ]
  },
  {
   "cell_type": "code",
   "execution_count": null,
   "metadata": {},
   "outputs": [],
   "source": [
    "chrome_options = webdriver.ChromeOptions()\n",
    "chrome_options.add_argument(\"--disable-extensions\")\n",
    "#chrome_options.add_argument(\"--headless\")\n",
    "driver = webdriver.Chrome(\"/Users/khusht/Desktop/DataSci/chromedriver\", options = chrome_options) #You'll need a browser driver. # \n",
    "#Link to driver: https://chromedriver.chromium.org/downloads\n",
    "i=0\n",
    "\n",
    "for i in range(0,len(addresses)):\n",
    "    address=addresses[i]\n",
    "    link = (findZillowURL(driver,address))\n",
    "    print(link)\n",
    "    if(\"captcha\" in link):\n",
    "        print(\"Captcha on \"+str(i))\n",
    "        print(str(addresses[i]))\n",
    "        break\n",
    "    zillowLinks.append(link)\n",
    "    i = i+1\n",
    "\n",
    "#Note that you may encounter issues with a Captcha when scraping from Zillow. \n",
    "#I had to solve this manually (solved about 15 captchas for 800+ addresses, might not be the most efficient). \n",
    "#What I did was I kept this running in the background, and wherever the data seemed off (in my case it was a spam of NO URLS)\n",
    "#I deleted the data which seemed incorrect, checked out zillow on the automated browser, solved the captchas, and let it run again from the index I deleted it at. "
   ]
  },
  {
   "cell_type": "markdown",
   "metadata": {},
   "source": [
    "2. Use the dataframe to go to each Zillow link, and add the cost of the house.\n"
   ]
  },
  {
   "cell_type": "code",
   "execution_count": 7,
   "metadata": {},
   "outputs": [],
   "source": [
    "#I appended the zillow links to a spreadsheet so that they were spread, and read the links again from that spreadsheet. \n",
    "data = pd.read_excel(\"FinishedDemContactsAddress.xlsx\")\n",
    "zillowLinks = data[\"Zillow Links\"].values.tolist()\n",
    "homeCosts=[]"
   ]
  },
  {
   "cell_type": "code",
   "execution_count": 24,
   "metadata": {},
   "outputs": [],
   "source": [
    "def getValue(driver, zillowLink):\n",
    "    driver.get(zillowLink)\n",
    "    # Give the javascript time to render\n",
    "    sleep_time = random.randint(6,10)\n",
    "    time.sleep(sleep_time)\n",
    "    # Now we have the page, let BeautifulSoup do the rest!\n",
    "    try:\n",
    "        soup = BeautifulSoup(driver.page_source)\n",
    "        mydivs = soup.find(\"div\", {\"class\": \"value\"})\n",
    "        return mydivs.text\n",
    "    except:\n",
    "        return \"$0\""
   ]
  },
  {
   "cell_type": "code",
   "execution_count": 47,
   "metadata": {},
   "outputs": [
    {
     "name": "stdout",
     "output_type": "stream",
     "text": [
      "$303,381\n",
      "$273,424\n",
      "$308,593\n",
      "$319,652\n",
      "$0\n",
      "$286,143\n",
      "$287,467\n",
      "$340,702\n",
      "$269,915\n",
      "$0\n",
      "$0\n",
      "$274,182\n",
      "$0\n",
      "$457,407\n",
      "$457,407\n",
      "$245,844\n",
      "$245,844\n",
      "$0\n",
      "$253,050\n",
      "$253,050\n",
      "$218,914\n",
      "$0\n",
      "$0\n",
      "$0\n",
      "$190,176\n",
      "$221,084\n",
      "$225,437\n",
      "$203,777\n",
      "$202,900\n",
      "$0\n",
      "$0\n",
      "$0\n",
      "$0\n",
      "$0\n",
      "$418,673\n",
      "$0\n",
      "$0\n",
      "$211,064\n",
      "$0\n",
      "$0\n",
      "$0\n",
      "$375,771\n",
      "$213,173\n",
      "$777,976\n",
      "$0\n",
      "$363,300\n",
      "$622,090\n",
      "$0\n",
      "$0\n",
      "$0\n",
      "$636,268\n",
      "$0\n",
      "$428,810\n",
      "$0\n",
      "$0\n",
      "$259,535\n",
      "$248,177\n",
      "$248,177\n",
      "$0\n",
      "$479,781\n",
      "$0\n",
      "$227,604\n",
      "$158,567\n",
      "$0\n",
      "$0\n",
      "$242,954\n",
      "$225,435\n",
      "$224,444\n",
      "$0\n",
      "$0\n",
      "$258,261\n",
      "$0\n",
      "$0\n",
      "$99,834\n",
      "$202,235\n",
      "$276,522\n",
      "$0\n",
      "$0\n",
      "$313,322\n",
      "$0\n",
      "$0\n",
      "$191,463\n",
      "$239,687\n",
      "$0\n",
      "$227,903\n",
      "$0\n",
      "$241,416\n",
      "$0\n",
      "$192,841\n",
      "$359,358\n",
      "$344,611\n",
      "$0\n",
      "$241,727\n",
      "$276,353\n",
      "$0\n",
      "$393,866\n",
      "$0\n",
      "$544,778\n",
      "$0\n",
      "$0\n",
      "$0\n",
      "$508,241\n",
      "$455,124\n",
      "$739,216\n",
      "$978,786\n",
      "$362,003\n",
      "$0\n",
      "$370,357\n",
      "$754,203\n",
      "$330,093\n",
      "$0\n",
      "$0\n",
      "$0\n",
      "$0\n",
      "N/A\n",
      "$181,498\n",
      "$364,542\n",
      "$0\n",
      "$186,521\n",
      "$0\n",
      "$281,599\n",
      "$272,934\n",
      "$229,973\n",
      "$0\n",
      "$0\n",
      "$304,936\n",
      "$497,497\n",
      "$0\n",
      "$370,859\n",
      "$43,554\n",
      "$445,398\n",
      "$436,768\n",
      "$267,436\n",
      "$436,664\n",
      "$0\n",
      "$296,911\n",
      "$0\n",
      "$0\n",
      "$207,240\n",
      "$0\n",
      "$713,833\n",
      "$0\n",
      "$280,134\n",
      "$713,833\n",
      "$0\n",
      "$0\n",
      "$0\n",
      "$424,199\n",
      "$362,640\n",
      "$0\n",
      "$0\n",
      "$0\n",
      "$443,638\n",
      "$274,826\n",
      "$0\n",
      "$0\n",
      "$0\n",
      "$0\n",
      "$0\n",
      "$89,327\n",
      "N/A\n",
      "$0\n",
      "$0\n"
     ]
    }
   ],
   "source": [
    "chrome_options = webdriver.ChromeOptions()\n",
    "chrome_options.add_argument(\"--disable-extensions\")\n",
    "#chrome_options.add_argument(\"--headless\")\n",
    "driver = webdriver.Chrome(\"/Users/khusht/Desktop/DataSci/chromedriver\", options = chrome_options) #Again, replace driver where needed\n",
    "\n",
    "for i in range(0, len(zillowLinks)-1): #Might have to be just len(zillowLinks), i forget\n",
    "    zillowLink = zillowLinks[i]\n",
    "    cost = \"$0\"\n",
    "    if(zillowLink==\"No URL\" or zillowLink==\"https://www.zillow.com/how-much-is-my-home-worth/\"):\n",
    "        print(cost)\n",
    "        homeCosts.append(cost)\n",
    "        continue\n",
    "    cost = getValue(driver, zillowLink)\n",
    "    homeCosts.append(cost)\n",
    "    print(cost)\n",
    "#Same case applies here with Captcha. When the data starts going bad (a spam of 0$), delete from the index where the \n",
    "#spam started, and restart loop again at the index you deleted from after solving captcha if needed. "
   ]
  },
  {
   "cell_type": "code",
   "execution_count": 48,
   "metadata": {},
   "outputs": [
    {
     "name": "stdout",
     "output_type": "stream",
     "text": [
      "831\n"
     ]
    }
   ],
   "source": [
    "print(len(homeCosts))\n",
    "data[\"Home Costs\"] = pd.Series(homeCosts)\n",
    "data.to_excel(\"FinishedDemContactsAddressWithCosts.xlsx\")  "
   ]
  },
  {
   "cell_type": "code",
   "execution_count": 9,
   "metadata": {
    "scrolled": false
   },
   "outputs": [
    {
     "data": {
      "text/html": [
       "<div>\n",
       "<style scoped>\n",
       "    .dataframe tbody tr th:only-of-type {\n",
       "        vertical-align: middle;\n",
       "    }\n",
       "\n",
       "    .dataframe tbody tr th {\n",
       "        vertical-align: top;\n",
       "    }\n",
       "\n",
       "    .dataframe thead th {\n",
       "        text-align: right;\n",
       "    }\n",
       "</style>\n",
       "<table border=\"1\" class=\"dataframe\">\n",
       "  <thead>\n",
       "    <tr style=\"text-align: right;\">\n",
       "      <th></th>\n",
       "      <th>Unnamed: 0</th>\n",
       "      <th>Mail/Person/Election Day</th>\n",
       "      <th>First Name</th>\n",
       "      <th>Last Name</th>\n",
       "      <th>Email</th>\n",
       "      <th>Phone</th>\n",
       "      <th>M/H</th>\n",
       "      <th>Address Line 1</th>\n",
       "      <th>Address Line 2</th>\n",
       "      <th>City</th>\n",
       "      <th>State</th>\n",
       "      <th>Zip</th>\n",
       "      <th>Unnamed: 11</th>\n",
       "      <th>Zillow Links</th>\n",
       "    </tr>\n",
       "  </thead>\n",
       "  <tbody>\n",
       "    <tr>\n",
       "      <th>0</th>\n",
       "      <td>0</td>\n",
       "      <td>NaN</td>\n",
       "      <td>Tammy</td>\n",
       "      <td>Cureton</td>\n",
       "      <td>tammymcgill45@yahoo.com</td>\n",
       "      <td>704-635-4197</td>\n",
       "      <td>M</td>\n",
       "      <td>NaN</td>\n",
       "      <td>NaN</td>\n",
       "      <td>NaN</td>\n",
       "      <td>NaN</td>\n",
       "      <td>NaN</td>\n",
       "      <td>NaN</td>\n",
       "      <td>No URL</td>\n",
       "    </tr>\n",
       "    <tr>\n",
       "      <th>1</th>\n",
       "      <td>1</td>\n",
       "      <td>P</td>\n",
       "      <td>Nathan</td>\n",
       "      <td>Hudson</td>\n",
       "      <td>NaN</td>\n",
       "      <td>704-796-992</td>\n",
       "      <td>NaN</td>\n",
       "      <td>2401 Castleberry Ct.</td>\n",
       "      <td>Apt C</td>\n",
       "      <td>Monroe</td>\n",
       "      <td>NC</td>\n",
       "      <td>28110</td>\n",
       "      <td>NaN</td>\n",
       "      <td>https://www.zillow.com/how-much-is-my-home-worth/</td>\n",
       "    </tr>\n",
       "    <tr>\n",
       "      <th>2</th>\n",
       "      <td>2</td>\n",
       "      <td>M</td>\n",
       "      <td>Ronnie</td>\n",
       "      <td>White</td>\n",
       "      <td>ronniewhite218g.com ?</td>\n",
       "      <td>704-835-3621</td>\n",
       "      <td>M</td>\n",
       "      <td>2655 Nelda Dr</td>\n",
       "      <td>Apt K</td>\n",
       "      <td>Monroe</td>\n",
       "      <td>NC</td>\n",
       "      <td>28110</td>\n",
       "      <td>NaN</td>\n",
       "      <td>https://www.zillow.com/how-much-is-my-home-wor...</td>\n",
       "    </tr>\n",
       "    <tr>\n",
       "      <th>3</th>\n",
       "      <td>3</td>\n",
       "      <td>P</td>\n",
       "      <td>Arthur</td>\n",
       "      <td>Lewis</td>\n",
       "      <td>arty1944@gmail.com</td>\n",
       "      <td>NaN</td>\n",
       "      <td>NaN</td>\n",
       "      <td>2675 Nelda Dr</td>\n",
       "      <td>Apt E</td>\n",
       "      <td>Monroe</td>\n",
       "      <td>NC</td>\n",
       "      <td>28110</td>\n",
       "      <td>NaN</td>\n",
       "      <td>https://www.zillow.com/how-much-is-my-home-worth/</td>\n",
       "    </tr>\n",
       "    <tr>\n",
       "      <th>4</th>\n",
       "      <td>4</td>\n",
       "      <td>P</td>\n",
       "      <td>Helena</td>\n",
       "      <td>Faulkner</td>\n",
       "      <td>NaN</td>\n",
       "      <td>704-289-2828</td>\n",
       "      <td>NaN</td>\n",
       "      <td>2318 Roland Dr.</td>\n",
       "      <td>NaN</td>\n",
       "      <td>Monroe</td>\n",
       "      <td>NC</td>\n",
       "      <td>28110</td>\n",
       "      <td>NaN</td>\n",
       "      <td>https://www.zillow.com/how-much-is-my-home-wor...</td>\n",
       "    </tr>\n",
       "  </tbody>\n",
       "</table>\n",
       "</div>"
      ],
      "text/plain": [
       "   Unnamed: 0 Mail/Person/Election Day First Name Last Name  \\\n",
       "0           0                      NaN      Tammy   Cureton   \n",
       "1           1                        P     Nathan    Hudson   \n",
       "2           2                        M     Ronnie     White   \n",
       "3           3                        P     Arthur     Lewis   \n",
       "4           4                        P    Helena   Faulkner   \n",
       "\n",
       "                     Email         Phone  M/H         Address Line 1  \\\n",
       "0  tammymcgill45@yahoo.com  704-635-4197    M                    NaN   \n",
       "1                      NaN   704-796-992  NaN  2401 Castleberry Ct.    \n",
       "2   ronniewhite218g.com ?   704-835-3621    M          2655 Nelda Dr   \n",
       "3       arty1944@gmail.com           NaN  NaN          2675 Nelda Dr   \n",
       "4                      NaN  704-289-2828  NaN        2318 Roland Dr.   \n",
       "\n",
       "  Address Line 2    City State    Zip Unnamed: 11  \\\n",
       "0            NaN     NaN   NaN    NaN         NaN   \n",
       "1          Apt C  Monroe    NC  28110         NaN   \n",
       "2          Apt K  Monroe    NC  28110         NaN   \n",
       "3          Apt E  Monroe    NC  28110         NaN   \n",
       "4            NaN  Monroe    NC  28110         NaN   \n",
       "\n",
       "                                        Zillow Links  \n",
       "0                                             No URL  \n",
       "1  https://www.zillow.com/how-much-is-my-home-worth/  \n",
       "2  https://www.zillow.com/how-much-is-my-home-wor...  \n",
       "3  https://www.zillow.com/how-much-is-my-home-worth/  \n",
       "4  https://www.zillow.com/how-much-is-my-home-wor...  "
      ]
     },
     "execution_count": 9,
     "metadata": {},
     "output_type": "execute_result"
    }
   ],
   "source": [
    "data.head()"
   ]
  },
  {
   "cell_type": "code",
   "execution_count": 52,
   "metadata": {},
   "outputs": [
    {
     "data": {
      "text/plain": [
       "'$450,278'"
      ]
     },
     "execution_count": 52,
     "metadata": {},
     "output_type": "execute_result"
    }
   ],
   "source": [
    "#Last one\n",
    "lastCost = getValue(driver, zillowLinks[831])\n",
    "lastCost"
   ]
  },
  {
   "cell_type": "code",
   "execution_count": 55,
   "metadata": {},
   "outputs": [],
   "source": [
    "homeCosts.append(lastCost)"
   ]
  },
  {
   "cell_type": "code",
   "execution_count": null,
   "metadata": {},
   "outputs": [],
   "source": [
    "print(len(homeCosts))\n",
    "data[\"Home Costs\"] = pd.Series(homeCosts)\n",
    "data.to_excel(\"FinishedDemContactsAddressWithCosts.xlsx\")  \n",
    "data"
   ]
  },
  {
   "cell_type": "code",
   "execution_count": 69,
   "metadata": {},
   "outputs": [],
   "source": [
    "homeCosts_copy = homeCosts.copy()"
   ]
  },
  {
   "cell_type": "code",
   "execution_count": 80,
   "metadata": {},
   "outputs": [
    {
     "name": "stdout",
     "output_type": "stream",
     "text": [
      "[450278, 0, 0, 0, 170434, 360655, 335529, 335529, 340624, 340892, 330247, 351785, 330176, 295885, 262678, 262678, 281348, 281348, 253724, 253724, 302287, 0, 276182, 220407, 211951, 221038, 221789, 0, 0, 260101, 260170, 298575, 209024, 231243, 0, 192787, 265248, 210785, 191688, 230747, 0, 0, 0, 0, 0, 0, 0, 0, 0, 0, 0, 0, 0, 0, 452789, 438342, 265511, 211151, 220257, 0, 0, 212077, 324773, 359891, 365060, 418006, 0, 327248, 0, 737944, 0, 651730, 0, 600188, 0, 0, 0, 189356, 277439, 0, 274826, 298334, 0, 289820, 283710, 176556, 0, 0, 0, 0, 0, 429467, 286780, 300796, 0, 0, 0, 0, 0, 147490, 329472, 331785, 338306, 361130, 0, 677719, 400963, 309279, 439085, 300732, 0, 437322, 481908, 0, 226209, 174893, 180562, 711875, 701551, 472838, 477386, 530600, 525829, 525829, 520534, 0, 0, 0, 0, 0, 438317, 499065, 322256, 0, 0, 0, 364315, 0, 0, 383809, 0, 637108, 637108, 0, 426895, 437431, 427714, 494779, 442795, 0, 0, 507445, 428361, 428361, 0, 0, 357717, 364666, 424038, 385902, 387970, 431079, 421126, 355403, 0, 0, 767300, 0, 0, 0, 341671, 0, 446393, 382204, 752730, 376674, 325872, 325872, 0, 363520, 0, 408646, 350470, 243851, 0, 0, 0, 368856, 0, 920119, 0, 527640, 500508, 229742, 587318, 0, 629980, 0, 267188, 372330, 0, 0, 370357, 0, 0, 447648, 868447, 0, 327632, 337981, 282812, 363257, 226070, 330062, 330504, 221598, 260253, 0, 0, 0, 0, 0, 0, 181928, 0, 0, 191690, 0, 200657, 0, 192569, 0, 0, 0, 166849, 0, 0, 133164, 369683, 0, 0, 0, 0, 0, 0, 0, 0, 0, 492225, 0, 0, 0, 0, 0, 258503, 0, 0, 0, 0, 0, 0, 139740, 105776, 299378, 328071, 0, 179069, 0, 0, 0, 353120, 0, 649010, 417134, 920119, 0, 0, 0, 0, 186099, 0, 280490, 289500, 0, 590666, 452943, 353797, 429010, 504579, 243762, 639630, 327271, 0, 0, 0, 357801, 0, 937585, 0, 0, 0, 377445, 181591, 174321, 96813, 152995, 181822, 0, 347311, 0, 801541, 502269, 564529, 522999, 502007, 533123, 0, 0, 0, 593491, 273298, 262930, 262930, 355348, 0, 0, 0, 329355, 0, 0, 174527, 170793, 225307, 297488, 0, 0, 736752, 473394, 473192, 649010, 898223, 426980, 0, 284442, 360179, 353729, 0, 360675, 0, 0, 0, 0, 0, 0, 0, 0, 0, 0, 0, 253050, 285381, 0, 227504, 0, 372230, 0, 0, 0, 0, 0, 287947, 229755, 234585, 0, 0, 198695, 0, 231323, 213868, 0, 0, 0, 0, 0, 191394, 202473, 197085, 271020, 0, 337650, 276551, 0, 295157, 364116, 364116, 0, 0, 366528, 322794, 0, 0, 136709, 0, 0, 0, 0, 0, 0, 0, 0, 0, 0, 0, 0, 393982, 286420, 311368, 0, 0, 0, 0, 0, 0, 0, 106368, 113468, 0, 0, 0, 0, 0, 0, 0, 0, 366436, 0, 390378, 0, 0, 493186, 0, 0, 299656, 309999, 373517, 367716, 390925, 0, 0, 177404, 108203, 170798, 0, 173841, 0, 0, 262930, 371676, 410436, 484606, 0, 0, 0, 121303, 0, 0, 389509, 297841, 383803, 132796, 0, 0, 0, 299522, 0, 0, 0, 294642, 103402, 0, 190546, 152788, 232307, 240018, 0, 0, 311185, 0, 0, 328607, 0, 0, 0, 0, 0, 0, 1135160, 450975, 588154, 707105, 0, 0, 0, 0, 300796, 0, 0, 0, 0, 259351, 0, 0, 224935, 0, 198833, 0, 499644, 266353, 228469, 0, 0, 0, 0, 398502, 679275, 471458, 0, 477127, 319315, 487913, 516341, 442017, 439970, 439970, 0, 0, 0, 0, 0, 306808, 147440, 0, 204925, 200313, 0, 0, 188843, 0, 0, 0, 215722, 0, 0, 0, 241976, 250300, 0, 0, 518938, 340163, 338306, 352514, 340446, 0, 0, 449837, 325788, 0, 0, 218856, 0, 275638, 297292, 0, 580621, 0, 0, 0, 427339, 492847, 356813, 355263, 0, 324773, 0, 0, 363109, 747449, 760879, 898223, 461187, 375689, 375689, 0, 0, 0, 0, 352128, 422878, 270059, 241416, 0, 0, 0, 0, 0, 157359, 152290, 0, 0, 0, 225626, 140304, 0, 0, 0, 169512, 211962, 211962, 243478, 0, 527318, 291662, 0, 231967, 0, 269487, 432633, 267356, 267356, 300395, 285217, 233095, 258431, 245965, 248017, 0, 493640, 456079, 313492, 269645, 0, 314105, 296218, 0, 0, 174297, 225070, 192601, 0, 0, 250836, 288128, 267042, 286021, 245520, 223751, 0, 0, 0, 0, 324420, 312635, 0, 294642, 0, 0, 0, 303381, 273424, 308593, 319652, 0, 286143, 287467, 340702, 269915, 0, 0, 274182, 0, 457407, 457407, 245844, 245844, 0, 253050, 253050, 218914, 0, 0, 0, 190176, 221084, 225437, 203777, 202900, 0, 0, 0, 0, 0, 418673, 0, 0, 211064, 0, 0, 0, 375771, 213173, 777976, 0, 363300, 622090, 0, 0, 0, 636268, 0, 428810, 0, 0, 259535, 248177, 248177, 0, 479781, 0, 227604, 158567, 0, 0, 242954, 225435, 224444, 0, 0, 258261, 0, 0, 99834, 202235, 276522, 0, 0, 313322, 0, 0, 191463, 239687, 0, 227903, 0, 241416, 0, 192841, 359358, 344611, 0, 241727, 276353, 0, 393866, 0, 544778, 0, 0, 0, 508241, 455124, 739216, 978786, 362003, 0, 370357, 754203, 330093, 0, 0, 0, 0, 0, 181498, 364542, 0, 186521, 0, 281599, 272934, 229973, 0, 0, 304936, 497497, 0, 370859, 43554, 445398, 436768, 267436, 436664, 0, 296911, 0, 0, 207240, 0, 713833, 0, 280134, 713833, 0, 0, 0, 424199, 362640, 0, 0, 0, 443638, 274826, 0, 0, 0, 0, 0, 89327, 0, 0, 0, 450278]\n"
     ]
    }
   ],
   "source": [
    "#Have to get rid of commas, dollar values, and N/As to convert everything to an  int to compare\n",
    "i =0\n",
    "for homeCost in homeCosts_copy:\n",
    "    if(homeCosts_copy[i]==\"N/A\"):\n",
    "        homeCosts_copy[i] = \"0\"\n",
    "    i = i+1\n",
    "print(homeCosts_copy)"
   ]
  },
  {
   "cell_type": "code",
   "execution_count": 83,
   "metadata": {},
   "outputs": [],
   "source": [
    "#dollar_dec = float(dollars[1:])\n",
    "i = 0 \n",
    "for homeCostCopy in homeCosts_copy:\n",
    "    homeCosts_copy[i] = int(homeCostCopy)\n",
    "    i = i+1\n",
    "homeCosts_copy[0]=0"
   ]
  },
  {
   "cell_type": "code",
   "execution_count": null,
   "metadata": {},
   "outputs": [],
   "source": [
    "data[\"HomeValues\"] = homeCosts_copy\n",
    "data"
   ]
  },
  {
   "cell_type": "code",
   "execution_count": null,
   "metadata": {},
   "outputs": [],
   "source": [
    "#I just imported the dataframe into a small sqlite db to make it easier to query/sort relevant data (this part may not be needed)\n",
    "import sqlite3\n",
    "conn = sqlite3.connect('DonorList.db')\n",
    "data.to_sql('DonorList', conn, if_exists='replace', index=False)\n",
    "pd.read_sql('select * from DonorList', conn)"
   ]
  },
  {
   "cell_type": "code",
   "execution_count": null,
   "metadata": {},
   "outputs": [],
   "source": []
  }
 ],
 "metadata": {
  "kernelspec": {
   "display_name": "Python 3",
   "language": "python",
   "name": "python3"
  },
  "language_info": {
   "codemirror_mode": {
    "name": "ipython",
    "version": 3
   },
   "file_extension": ".py",
   "mimetype": "text/x-python",
   "name": "python",
   "nbconvert_exporter": "python",
   "pygments_lexer": "ipython3",
   "version": "3.7.6"
  }
 },
 "nbformat": 4,
 "nbformat_minor": 4
}
